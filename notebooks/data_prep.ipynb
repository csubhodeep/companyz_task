{
 "cells": [
  {
   "cell_type": "markdown",
   "id": "746cb6ca-5b5a-49dc-b02f-2f978d07fd5c",
   "metadata": {},
   "source": [
    "# Objective\n",
    "\n",
    "This notebooks aims to ingest, clean and persist the data"
   ]
  },
  {
   "cell_type": "markdown",
   "id": "26b36558-0341-4a9b-9c7a-564d6445b56b",
   "metadata": {},
   "source": [
    "# Import essentials"
   ]
  },
  {
   "cell_type": "code",
   "execution_count": 1,
   "id": "9294e352-36ae-4a94-b69f-2e349f5cee54",
   "metadata": {},
   "outputs": [
    {
     "name": "stdout",
     "output_type": "stream",
     "text": [
      "3.10.6 (main, Aug 10 2022, 11:40:04) [GCC 11.3.0]\n"
     ]
    }
   ],
   "source": [
    "import pandas as pd\n",
    "import json\n",
    "from pathlib import Path\n",
    "import sys\n",
    "\n",
    "print(sys.version)"
   ]
  },
  {
   "cell_type": "markdown",
   "id": "b243edfd-d4a9-4f37-bc8d-d387c846d92f",
   "metadata": {
    "tags": []
   },
   "source": [
    "# Data ingestion"
   ]
  },
  {
   "cell_type": "code",
   "execution_count": 2,
   "id": "cb26f1e5-bd35-4d5d-98cf-9a447b9931bb",
   "metadata": {},
   "outputs": [],
   "source": [
    "# check schema of data\n",
    "\n",
    "with open(\"../data/raw/dataset.json\", \"r\") as f:\n",
    "    data = json.load(f)"
   ]
  },
  {
   "cell_type": "code",
   "execution_count": 3,
   "id": "8ca9b74f-e4e5-444a-9e52-a680d3c71565",
   "metadata": {},
   "outputs": [
    {
     "name": "stdout",
     "output_type": "stream",
     "text": [
      "160000\n"
     ]
    }
   ],
   "source": [
    "print(len(data))"
   ]
  },
  {
   "cell_type": "code",
   "execution_count": 4,
   "id": "d3ce1923-011a-4337-b470-b39be2f40335",
   "metadata": {
    "scrolled": true,
    "tags": []
   },
   "outputs": [
    {
     "name": "stdout",
     "output_type": "stream",
     "text": [
      "{\n",
      "    \"browser\": \"Chrome\",\n",
      "    \"os\": \"Windows 8\",\n",
      "    \"locale\": \"de-DE\",\n",
      "    \"user_id\": 164,\n",
      "    \"gender\": \"m\",\n",
      "    \"location\": \"Canada/Toronto\",\n",
      "    \"sites\": [\n",
      "        {\n",
      "            \"site\": \"lenta.ru\",\n",
      "            \"length\": 296\n",
      "        },\n",
      "        {\n",
      "            \"site\": \"lenta.ru\",\n",
      "            \"length\": 69\n",
      "        },\n",
      "        {\n",
      "            \"site\": \"vk.com\",\n",
      "            \"length\": 94\n",
      "        },\n",
      "        {\n",
      "            \"site\": \"lenta.ru\",\n",
      "            \"length\": 129\n",
      "        },\n",
      "        {\n",
      "            \"site\": \"wikipedia.org\",\n",
      "            \"length\": 70\n",
      "        },\n",
      "        {\n",
      "            \"site\": \"instagram.com\",\n",
      "            \"length\": 120\n",
      "        },\n",
      "        {\n",
      "            \"site\": \"msn.com\",\n",
      "            \"length\": 54\n",
      "        },\n",
      "        {\n",
      "            \"site\": \"amazon.com\",\n",
      "            \"length\": 213\n",
      "        },\n",
      "        {\n",
      "            \"site\": \"outlook.com\",\n",
      "            \"length\": 140\n",
      "        },\n",
      "        {\n",
      "            \"site\": \"verisign.com\",\n",
      "            \"length\": 166\n",
      "        },\n",
      "        {\n",
      "            \"site\": \"googleadservices.com\",\n",
      "            \"length\": 115\n",
      "        },\n",
      "        {\n",
      "            \"site\": \"akamaiedge.net\",\n",
      "            \"length\": 88\n",
      "        },\n",
      "        {\n",
      "            \"site\": \"stardock.com\",\n",
      "            \"length\": 207\n",
      "        },\n",
      "        {\n",
      "            \"site\": \"mediaarea.net\",\n",
      "            \"length\": 78\n",
      "        }\n",
      "    ],\n",
      "    \"time\": \"03:57:00\",\n",
      "    \"date\": \"2016-08-14\"\n",
      "}\n"
     ]
    }
   ],
   "source": [
    "print(json.dumps(data[0], indent=4))"
   ]
  },
  {
   "cell_type": "markdown",
   "id": "01e698fc-9a71-4f87-baf0-fa59763674e7",
   "metadata": {
    "tags": [],
    "toc-hr-collapsed": true
   },
   "source": [
    "# Data prep - 1"
   ]
  },
  {
   "cell_type": "markdown",
   "id": "244f3d1d-cd4c-43f6-8fc7-4b3f3ea88ad6",
   "metadata": {
    "tags": []
   },
   "source": [
    "## Prepare a table for high level session information"
   ]
  },
  {
   "cell_type": "code",
   "execution_count": 4,
   "id": "eebad71f-c5b8-42e7-939a-4b125036923f",
   "metadata": {},
   "outputs": [],
   "source": [
    "# unnest and normalize\n",
    "def get_records():\n",
    "    for ele in data:\n",
    "        filtered = ele.copy()\n",
    "        filtered.pop(\"sites\")\n",
    "        yield filtered"
   ]
  },
  {
   "cell_type": "code",
   "execution_count": 6,
   "id": "1fd7f8c4-1d29-4207-b9fc-3c242ea209bc",
   "metadata": {},
   "outputs": [],
   "source": [
    "df_session = pd.DataFrame.from_records(get_records())"
   ]
  },
  {
   "cell_type": "code",
   "execution_count": 7,
   "id": "d2802b51-3250-49be-8e53-d2bbe63e8385",
   "metadata": {},
   "outputs": [
    {
     "name": "stdout",
     "output_type": "stream",
     "text": [
      "<class 'pandas.core.frame.DataFrame'>\n",
      "RangeIndex: 160000 entries, 0 to 159999\n",
      "Data columns (total 8 columns):\n",
      " #   Column    Non-Null Count   Dtype \n",
      "---  ------    --------------   ----- \n",
      " 0   browser   160000 non-null  object\n",
      " 1   os        160000 non-null  object\n",
      " 2   locale    160000 non-null  object\n",
      " 3   user_id   160000 non-null  int64 \n",
      " 4   gender    160000 non-null  object\n",
      " 5   location  160000 non-null  object\n",
      " 6   time      160000 non-null  object\n",
      " 7   date      160000 non-null  object\n",
      "dtypes: int64(1), object(7)\n",
      "memory usage: 9.8+ MB\n"
     ]
    }
   ],
   "source": [
    "df_session.info()"
   ]
  },
  {
   "cell_type": "markdown",
   "id": "55a77b7f-1d80-40c7-8535-1ae012b3175e",
   "metadata": {},
   "source": [
    "So there are no null records in the raw data. However, we could still cast certain columns in the right data type"
   ]
  },
  {
   "cell_type": "code",
   "execution_count": 8,
   "id": "9addf4f7-e418-441a-824d-814c55489070",
   "metadata": {},
   "outputs": [],
   "source": [
    "# ensure that there are no duplicate records\n",
    "assert len(df_session) == len(df_session.drop_duplicates())"
   ]
  },
  {
   "cell_type": "code",
   "execution_count": 9,
   "id": "1b0334ea-6e52-4345-8141-3a11f21d028d",
   "metadata": {},
   "outputs": [],
   "source": [
    "df_session[\"user_id\"] = df_session[\"user_id\"].astype(int)"
   ]
  },
  {
   "cell_type": "code",
   "execution_count": 10,
   "id": "829bd5ae-b35d-464b-9f44-bfdfd3ac3ab3",
   "metadata": {},
   "outputs": [],
   "source": [
    "df_session[\"timestamp\"] = pd.to_datetime(df_session[\"date\"]+\"T\"+df_session[\"time\"], format=\"%Y-%m-%dT%H:%M:%S\")"
   ]
  },
  {
   "cell_type": "code",
   "execution_count": 11,
   "id": "443471a4-d0f0-4781-8d7e-213e3620aa49",
   "metadata": {},
   "outputs": [],
   "source": [
    "df_session.drop(columns=[\"date\", \"time\"], inplace=True)"
   ]
  },
  {
   "cell_type": "code",
   "execution_count": 12,
   "id": "8d4e478f-aac7-4b9c-8dfa-9225c8b22868",
   "metadata": {},
   "outputs": [],
   "source": [
    "df_session = df_session.reset_index().rename(columns={\"index\":\"session_id\"})"
   ]
  },
  {
   "cell_type": "code",
   "execution_count": 13,
   "id": "c9cbb7ad-f9d3-443d-9fdc-1267a12d6a23",
   "metadata": {},
   "outputs": [
    {
     "name": "stdout",
     "output_type": "stream",
     "text": [
      "<class 'pandas.core.frame.DataFrame'>\n",
      "RangeIndex: 160000 entries, 0 to 159999\n",
      "Data columns (total 8 columns):\n",
      " #   Column      Non-Null Count   Dtype         \n",
      "---  ------      --------------   -----         \n",
      " 0   session_id  160000 non-null  int64         \n",
      " 1   browser     160000 non-null  object        \n",
      " 2   os          160000 non-null  object        \n",
      " 3   locale      160000 non-null  object        \n",
      " 4   user_id     160000 non-null  int64         \n",
      " 5   gender      160000 non-null  object        \n",
      " 6   location    160000 non-null  object        \n",
      " 7   timestamp   160000 non-null  datetime64[ns]\n",
      "dtypes: datetime64[ns](1), int64(2), object(5)\n",
      "memory usage: 9.8+ MB\n"
     ]
    }
   ],
   "source": [
    "df_session.info()"
   ]
  },
  {
   "cell_type": "markdown",
   "id": "bf9c296e-cb98-4955-9358-9e99b5b8cf2b",
   "metadata": {
    "tags": []
   },
   "source": [
    "## Prepare a table for site-level session information"
   ]
  },
  {
   "cell_type": "code",
   "execution_count": 5,
   "id": "174a7201-d4f0-44ac-95ef-580bbe77abdc",
   "metadata": {},
   "outputs": [],
   "source": [
    "def get_sites():\n",
    "    for idx, ele in enumerate(data):\n",
    "        df_ = pd.DataFrame.from_dict(ele.get(\"sites\"))\n",
    "        df_[\"session_id\"] = idx\n",
    "        yield df_"
   ]
  },
  {
   "cell_type": "code",
   "execution_count": 15,
   "id": "23896c4e-760b-4897-97ae-bcb99498df33",
   "metadata": {},
   "outputs": [],
   "source": [
    "df_sites = pd.concat(get_sites()).reset_index(drop=True)"
   ]
  },
  {
   "cell_type": "code",
   "execution_count": 16,
   "id": "2e61ceea-c34a-4de4-ae7e-81c8880afc48",
   "metadata": {},
   "outputs": [
    {
     "name": "stdout",
     "output_type": "stream",
     "text": [
      "<class 'pandas.core.frame.DataFrame'>\n",
      "RangeIndex: 2065873 entries, 0 to 2065872\n",
      "Data columns (total 3 columns):\n",
      " #   Column      Dtype \n",
      "---  ------      ----- \n",
      " 0   site        object\n",
      " 1   length      int64 \n",
      " 2   session_id  int64 \n",
      "dtypes: int64(2), object(1)\n",
      "memory usage: 47.3+ MB\n"
     ]
    }
   ],
   "source": [
    "df_sites.info()"
   ]
  },
  {
   "cell_type": "code",
   "execution_count": 17,
   "id": "df9fdeb7-96af-4b06-9aec-5b6c7142dd0c",
   "metadata": {},
   "outputs": [
    {
     "data": {
      "text/html": [
       "<div>\n",
       "<style scoped>\n",
       "    .dataframe tbody tr th:only-of-type {\n",
       "        vertical-align: middle;\n",
       "    }\n",
       "\n",
       "    .dataframe tbody tr th {\n",
       "        vertical-align: top;\n",
       "    }\n",
       "\n",
       "    .dataframe thead th {\n",
       "        text-align: right;\n",
       "    }\n",
       "</style>\n",
       "<table border=\"1\" class=\"dataframe\">\n",
       "  <thead>\n",
       "    <tr style=\"text-align: right;\">\n",
       "      <th></th>\n",
       "      <th>site</th>\n",
       "      <th>length</th>\n",
       "      <th>session_id</th>\n",
       "    </tr>\n",
       "  </thead>\n",
       "  <tbody>\n",
       "    <tr>\n",
       "      <th>586538</th>\n",
       "      <td>facebook.net</td>\n",
       "      <td>124</td>\n",
       "      <td>45447</td>\n",
       "    </tr>\n",
       "    <tr>\n",
       "      <th>1174494</th>\n",
       "      <td>icloud.com</td>\n",
       "      <td>108</td>\n",
       "      <td>90997</td>\n",
       "    </tr>\n",
       "    <tr>\n",
       "      <th>38055</th>\n",
       "      <td>mail.google.com</td>\n",
       "      <td>65</td>\n",
       "      <td>2949</td>\n",
       "    </tr>\n",
       "    <tr>\n",
       "      <th>1994617</th>\n",
       "      <td>amazon.com</td>\n",
       "      <td>43</td>\n",
       "      <td>154474</td>\n",
       "    </tr>\n",
       "    <tr>\n",
       "      <th>503123</th>\n",
       "      <td>outlook.com</td>\n",
       "      <td>140</td>\n",
       "      <td>38996</td>\n",
       "    </tr>\n",
       "  </tbody>\n",
       "</table>\n",
       "</div>"
      ],
      "text/plain": [
       "                    site  length  session_id\n",
       "586538      facebook.net     124       45447\n",
       "1174494       icloud.com     108       90997\n",
       "38055    mail.google.com      65        2949\n",
       "1994617       amazon.com      43      154474\n",
       "503123       outlook.com     140       38996"
      ]
     },
     "execution_count": 17,
     "metadata": {},
     "output_type": "execute_result"
    }
   ],
   "source": [
    "df_sites.sample(5)"
   ]
  },
  {
   "cell_type": "markdown",
   "id": "d9e1a849-bbbc-410e-8204-9bebfd5ccd4b",
   "metadata": {},
   "source": [
    "# Save the data to disk"
   ]
  },
  {
   "cell_type": "code",
   "execution_count": 25,
   "id": "200e3984-3770-4aae-89d0-5fca0c4ba2e0",
   "metadata": {},
   "outputs": [],
   "source": [
    "path_to_folder = Path.cwd().joinpath(\"../data/prep_1\")"
   ]
  },
  {
   "cell_type": "code",
   "execution_count": 26,
   "id": "778f470a-3882-49a3-a194-1d97d728fce0",
   "metadata": {},
   "outputs": [],
   "source": [
    "path_to_folder.mkdir(exist_ok=True)"
   ]
  },
  {
   "cell_type": "code",
   "execution_count": 27,
   "id": "3629aa19-2a27-4ac8-ae75-5f7909f0c032",
   "metadata": {},
   "outputs": [],
   "source": [
    "df_session.to_feather(path_to_folder.joinpath(\"session.feather\"))"
   ]
  },
  {
   "cell_type": "code",
   "execution_count": 28,
   "id": "f9ea9748-5e82-4d74-b6c4-3471a814d9e5",
   "metadata": {},
   "outputs": [],
   "source": [
    "df_sites.to_feather(path_to_folder.joinpath(\"sites.feather\"))"
   ]
  }
 ],
 "metadata": {
  "kernelspec": {
   "display_name": "Python (toptal task)",
   "language": "python",
   "name": "toptal-task-venv"
  },
  "language_info": {
   "codemirror_mode": {
    "name": "ipython",
    "version": 3
   },
   "file_extension": ".py",
   "mimetype": "text/x-python",
   "name": "python",
   "nbconvert_exporter": "python",
   "pygments_lexer": "ipython3",
   "version": "3.10.6"
  }
 },
 "nbformat": 4,
 "nbformat_minor": 5
}
